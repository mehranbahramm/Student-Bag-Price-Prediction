{
  "nbformat": 4,
  "nbformat_minor": 0,
  "metadata": {
    "colab": {
      "provenance": [],
      "collapsed_sections": [
        "ybeAHAThbuR1",
        "E2bJUCCBVIsk"
      ]
    },
    "kernelspec": {
      "name": "python3",
      "display_name": "Python 3"
    },
    "language_info": {
      "name": "python"
    }
  },
  "cells": [
    {
      "cell_type": "markdown",
      "source": [
        "#Part 1"
      ],
      "metadata": {
        "id": "ybeAHAThbuR1"
      }
    },
    {
      "cell_type": "code",
      "execution_count": 1,
      "metadata": {
        "colab": {
          "base_uri": "https://localhost:8080/"
        },
        "id": "463BoFiNPkf0",
        "outputId": "eec1e92d-825d-4e13-821f-de0bd4238aba"
      },
      "outputs": [
        {
          "output_type": "stream",
          "name": "stdout",
          "text": [
            "Collecting pyforest\n",
            "  Downloading pyforest-1.1.2.tar.gz (17 kB)\n",
            "  Preparing metadata (setup.py) ... \u001b[?25l\u001b[?25hdone\n",
            "Building wheels for collected packages: pyforest\n",
            "  Building wheel for pyforest (setup.py) ... \u001b[?25l\u001b[?25hdone\n",
            "  Created wheel for pyforest: filename=pyforest-1.1.2-py2.py3-none-any.whl size=15897 sha256=7667ac5a0fdb8c954a13741b10d4a99a305f5b76dbba6c46ddb46f74aaa65113\n",
            "  Stored in directory: /root/.cache/pip/wheels/50/94/94/c8224da834a4db55f67c86feb7c742111ff051d5f3e17127d8\n",
            "Successfully built pyforest\n",
            "Installing collected packages: pyforest\n",
            "Successfully installed pyforest-1.1.2\n"
          ]
        }
      ],
      "source": [
        "pip install pyforest"
      ]
    },
    {
      "cell_type": "code",
      "source": [
        "import pyforest"
      ],
      "metadata": {
        "id": "wGklellqRwlE"
      },
      "execution_count": 2,
      "outputs": []
    },
    {
      "cell_type": "code",
      "source": [
        "df_train=pd.read_csv(\"train.csv\")\n",
        "df_test=pd.read_csv(\"test.csv\")"
      ],
      "metadata": {
        "colab": {
          "base_uri": "https://localhost:8080/",
          "height": 17
        },
        "id": "bd_EDJ5KSBk-",
        "outputId": "752fa3db-b965-4ca8-d666-115764a0b167"
      },
      "execution_count": 3,
      "outputs": [
        {
          "output_type": "display_data",
          "data": {
            "text/plain": [
              "<IPython.core.display.Javascript object>"
            ],
            "application/javascript": [
              "\n",
              "        if (window._pyforest_update_imports_cell) { window._pyforest_update_imports_cell('import pandas as pd'); }\n",
              "    "
            ]
          },
          "metadata": {}
        },
        {
          "output_type": "display_data",
          "data": {
            "text/plain": [
              "<IPython.core.display.Javascript object>"
            ],
            "application/javascript": [
              "\n",
              "        if (window._pyforest_update_imports_cell) { window._pyforest_update_imports_cell('import pandas as pd'); }\n",
              "    "
            ]
          },
          "metadata": {}
        }
      ]
    },
    {
      "cell_type": "code",
      "source": [
        "df_train.head()"
      ],
      "metadata": {
        "colab": {
          "base_uri": "https://localhost:8080/",
          "height": 206
        },
        "id": "BUS2-pjxSV35",
        "outputId": "cb50c271-d4a3-4eb4-bdea-c3bfa2980d24"
      },
      "execution_count": 4,
      "outputs": [
        {
          "output_type": "execute_result",
          "data": {
            "text/plain": [
              "   id         Brand Material    Size  ...      Style  Color Weight Capacity (kg)      Price\n",
              "0   0      Jansport  Leather  Medium  ...       Tote  Black            11.611723  112.15875\n",
              "1   1      Jansport   Canvas   Small  ...  Messenger  Green            27.078537   68.88056\n",
              "2   2  Under Armour  Leather   Small  ...  Messenger    Red            16.643760   39.17320\n",
              "3   3          Nike    Nylon   Small  ...  Messenger  Green            12.937220   80.60793\n",
              "4   4        Adidas   Canvas  Medium  ...  Messenger  Green            17.749338   86.02312\n",
              "\n",
              "[5 rows x 11 columns]"
            ],
            "text/html": [
              "\n",
              "  <div id=\"df-28f4b1fa-cbde-49af-9a6f-a40f268ec564\" class=\"colab-df-container\">\n",
              "    <div>\n",
              "<style scoped>\n",
              "    .dataframe tbody tr th:only-of-type {\n",
              "        vertical-align: middle;\n",
              "    }\n",
              "\n",
              "    .dataframe tbody tr th {\n",
              "        vertical-align: top;\n",
              "    }\n",
              "\n",
              "    .dataframe thead th {\n",
              "        text-align: right;\n",
              "    }\n",
              "</style>\n",
              "<table border=\"1\" class=\"dataframe\">\n",
              "  <thead>\n",
              "    <tr style=\"text-align: right;\">\n",
              "      <th></th>\n",
              "      <th>id</th>\n",
              "      <th>Brand</th>\n",
              "      <th>Material</th>\n",
              "      <th>Size</th>\n",
              "      <th>Compartments</th>\n",
              "      <th>Laptop Compartment</th>\n",
              "      <th>Waterproof</th>\n",
              "      <th>Style</th>\n",
              "      <th>Color</th>\n",
              "      <th>Weight Capacity (kg)</th>\n",
              "      <th>Price</th>\n",
              "    </tr>\n",
              "  </thead>\n",
              "  <tbody>\n",
              "    <tr>\n",
              "      <th>0</th>\n",
              "      <td>0</td>\n",
              "      <td>Jansport</td>\n",
              "      <td>Leather</td>\n",
              "      <td>Medium</td>\n",
              "      <td>7.0</td>\n",
              "      <td>Yes</td>\n",
              "      <td>No</td>\n",
              "      <td>Tote</td>\n",
              "      <td>Black</td>\n",
              "      <td>11.611723</td>\n",
              "      <td>112.15875</td>\n",
              "    </tr>\n",
              "    <tr>\n",
              "      <th>1</th>\n",
              "      <td>1</td>\n",
              "      <td>Jansport</td>\n",
              "      <td>Canvas</td>\n",
              "      <td>Small</td>\n",
              "      <td>10.0</td>\n",
              "      <td>Yes</td>\n",
              "      <td>Yes</td>\n",
              "      <td>Messenger</td>\n",
              "      <td>Green</td>\n",
              "      <td>27.078537</td>\n",
              "      <td>68.88056</td>\n",
              "    </tr>\n",
              "    <tr>\n",
              "      <th>2</th>\n",
              "      <td>2</td>\n",
              "      <td>Under Armour</td>\n",
              "      <td>Leather</td>\n",
              "      <td>Small</td>\n",
              "      <td>2.0</td>\n",
              "      <td>Yes</td>\n",
              "      <td>No</td>\n",
              "      <td>Messenger</td>\n",
              "      <td>Red</td>\n",
              "      <td>16.643760</td>\n",
              "      <td>39.17320</td>\n",
              "    </tr>\n",
              "    <tr>\n",
              "      <th>3</th>\n",
              "      <td>3</td>\n",
              "      <td>Nike</td>\n",
              "      <td>Nylon</td>\n",
              "      <td>Small</td>\n",
              "      <td>8.0</td>\n",
              "      <td>Yes</td>\n",
              "      <td>No</td>\n",
              "      <td>Messenger</td>\n",
              "      <td>Green</td>\n",
              "      <td>12.937220</td>\n",
              "      <td>80.60793</td>\n",
              "    </tr>\n",
              "    <tr>\n",
              "      <th>4</th>\n",
              "      <td>4</td>\n",
              "      <td>Adidas</td>\n",
              "      <td>Canvas</td>\n",
              "      <td>Medium</td>\n",
              "      <td>1.0</td>\n",
              "      <td>Yes</td>\n",
              "      <td>Yes</td>\n",
              "      <td>Messenger</td>\n",
              "      <td>Green</td>\n",
              "      <td>17.749338</td>\n",
              "      <td>86.02312</td>\n",
              "    </tr>\n",
              "  </tbody>\n",
              "</table>\n",
              "</div>\n",
              "    <div class=\"colab-df-buttons\">\n",
              "\n",
              "  <div class=\"colab-df-container\">\n",
              "    <button class=\"colab-df-convert\" onclick=\"convertToInteractive('df-28f4b1fa-cbde-49af-9a6f-a40f268ec564')\"\n",
              "            title=\"Convert this dataframe to an interactive table.\"\n",
              "            style=\"display:none;\">\n",
              "\n",
              "  <svg xmlns=\"http://www.w3.org/2000/svg\" height=\"24px\" viewBox=\"0 -960 960 960\">\n",
              "    <path d=\"M120-120v-720h720v720H120Zm60-500h600v-160H180v160Zm220 220h160v-160H400v160Zm0 220h160v-160H400v160ZM180-400h160v-160H180v160Zm440 0h160v-160H620v160ZM180-180h160v-160H180v160Zm440 0h160v-160H620v160Z\"/>\n",
              "  </svg>\n",
              "    </button>\n",
              "\n",
              "  <style>\n",
              "    .colab-df-container {\n",
              "      display:flex;\n",
              "      gap: 12px;\n",
              "    }\n",
              "\n",
              "    .colab-df-convert {\n",
              "      background-color: #E8F0FE;\n",
              "      border: none;\n",
              "      border-radius: 50%;\n",
              "      cursor: pointer;\n",
              "      display: none;\n",
              "      fill: #1967D2;\n",
              "      height: 32px;\n",
              "      padding: 0 0 0 0;\n",
              "      width: 32px;\n",
              "    }\n",
              "\n",
              "    .colab-df-convert:hover {\n",
              "      background-color: #E2EBFA;\n",
              "      box-shadow: 0px 1px 2px rgba(60, 64, 67, 0.3), 0px 1px 3px 1px rgba(60, 64, 67, 0.15);\n",
              "      fill: #174EA6;\n",
              "    }\n",
              "\n",
              "    .colab-df-buttons div {\n",
              "      margin-bottom: 4px;\n",
              "    }\n",
              "\n",
              "    [theme=dark] .colab-df-convert {\n",
              "      background-color: #3B4455;\n",
              "      fill: #D2E3FC;\n",
              "    }\n",
              "\n",
              "    [theme=dark] .colab-df-convert:hover {\n",
              "      background-color: #434B5C;\n",
              "      box-shadow: 0px 1px 3px 1px rgba(0, 0, 0, 0.15);\n",
              "      filter: drop-shadow(0px 1px 2px rgba(0, 0, 0, 0.3));\n",
              "      fill: #FFFFFF;\n",
              "    }\n",
              "  </style>\n",
              "\n",
              "    <script>\n",
              "      const buttonEl =\n",
              "        document.querySelector('#df-28f4b1fa-cbde-49af-9a6f-a40f268ec564 button.colab-df-convert');\n",
              "      buttonEl.style.display =\n",
              "        google.colab.kernel.accessAllowed ? 'block' : 'none';\n",
              "\n",
              "      async function convertToInteractive(key) {\n",
              "        const element = document.querySelector('#df-28f4b1fa-cbde-49af-9a6f-a40f268ec564');\n",
              "        const dataTable =\n",
              "          await google.colab.kernel.invokeFunction('convertToInteractive',\n",
              "                                                    [key], {});\n",
              "        if (!dataTable) return;\n",
              "\n",
              "        const docLinkHtml = 'Like what you see? Visit the ' +\n",
              "          '<a target=\"_blank\" href=https://colab.research.google.com/notebooks/data_table.ipynb>data table notebook</a>'\n",
              "          + ' to learn more about interactive tables.';\n",
              "        element.innerHTML = '';\n",
              "        dataTable['output_type'] = 'display_data';\n",
              "        await google.colab.output.renderOutput(dataTable, element);\n",
              "        const docLink = document.createElement('div');\n",
              "        docLink.innerHTML = docLinkHtml;\n",
              "        element.appendChild(docLink);\n",
              "      }\n",
              "    </script>\n",
              "  </div>\n",
              "\n",
              "\n",
              "<div id=\"df-a79ace3b-6fb7-43f2-ae5b-253b64b4245d\">\n",
              "  <button class=\"colab-df-quickchart\" onclick=\"quickchart('df-a79ace3b-6fb7-43f2-ae5b-253b64b4245d')\"\n",
              "            title=\"Suggest charts\"\n",
              "            style=\"display:none;\">\n",
              "\n",
              "<svg xmlns=\"http://www.w3.org/2000/svg\" height=\"24px\"viewBox=\"0 0 24 24\"\n",
              "     width=\"24px\">\n",
              "    <g>\n",
              "        <path d=\"M19 3H5c-1.1 0-2 .9-2 2v14c0 1.1.9 2 2 2h14c1.1 0 2-.9 2-2V5c0-1.1-.9-2-2-2zM9 17H7v-7h2v7zm4 0h-2V7h2v10zm4 0h-2v-4h2v4z\"/>\n",
              "    </g>\n",
              "</svg>\n",
              "  </button>\n",
              "\n",
              "<style>\n",
              "  .colab-df-quickchart {\n",
              "      --bg-color: #E8F0FE;\n",
              "      --fill-color: #1967D2;\n",
              "      --hover-bg-color: #E2EBFA;\n",
              "      --hover-fill-color: #174EA6;\n",
              "      --disabled-fill-color: #AAA;\n",
              "      --disabled-bg-color: #DDD;\n",
              "  }\n",
              "\n",
              "  [theme=dark] .colab-df-quickchart {\n",
              "      --bg-color: #3B4455;\n",
              "      --fill-color: #D2E3FC;\n",
              "      --hover-bg-color: #434B5C;\n",
              "      --hover-fill-color: #FFFFFF;\n",
              "      --disabled-bg-color: #3B4455;\n",
              "      --disabled-fill-color: #666;\n",
              "  }\n",
              "\n",
              "  .colab-df-quickchart {\n",
              "    background-color: var(--bg-color);\n",
              "    border: none;\n",
              "    border-radius: 50%;\n",
              "    cursor: pointer;\n",
              "    display: none;\n",
              "    fill: var(--fill-color);\n",
              "    height: 32px;\n",
              "    padding: 0;\n",
              "    width: 32px;\n",
              "  }\n",
              "\n",
              "  .colab-df-quickchart:hover {\n",
              "    background-color: var(--hover-bg-color);\n",
              "    box-shadow: 0 1px 2px rgba(60, 64, 67, 0.3), 0 1px 3px 1px rgba(60, 64, 67, 0.15);\n",
              "    fill: var(--button-hover-fill-color);\n",
              "  }\n",
              "\n",
              "  .colab-df-quickchart-complete:disabled,\n",
              "  .colab-df-quickchart-complete:disabled:hover {\n",
              "    background-color: var(--disabled-bg-color);\n",
              "    fill: var(--disabled-fill-color);\n",
              "    box-shadow: none;\n",
              "  }\n",
              "\n",
              "  .colab-df-spinner {\n",
              "    border: 2px solid var(--fill-color);\n",
              "    border-color: transparent;\n",
              "    border-bottom-color: var(--fill-color);\n",
              "    animation:\n",
              "      spin 1s steps(1) infinite;\n",
              "  }\n",
              "\n",
              "  @keyframes spin {\n",
              "    0% {\n",
              "      border-color: transparent;\n",
              "      border-bottom-color: var(--fill-color);\n",
              "      border-left-color: var(--fill-color);\n",
              "    }\n",
              "    20% {\n",
              "      border-color: transparent;\n",
              "      border-left-color: var(--fill-color);\n",
              "      border-top-color: var(--fill-color);\n",
              "    }\n",
              "    30% {\n",
              "      border-color: transparent;\n",
              "      border-left-color: var(--fill-color);\n",
              "      border-top-color: var(--fill-color);\n",
              "      border-right-color: var(--fill-color);\n",
              "    }\n",
              "    40% {\n",
              "      border-color: transparent;\n",
              "      border-right-color: var(--fill-color);\n",
              "      border-top-color: var(--fill-color);\n",
              "    }\n",
              "    60% {\n",
              "      border-color: transparent;\n",
              "      border-right-color: var(--fill-color);\n",
              "    }\n",
              "    80% {\n",
              "      border-color: transparent;\n",
              "      border-right-color: var(--fill-color);\n",
              "      border-bottom-color: var(--fill-color);\n",
              "    }\n",
              "    90% {\n",
              "      border-color: transparent;\n",
              "      border-bottom-color: var(--fill-color);\n",
              "    }\n",
              "  }\n",
              "</style>\n",
              "\n",
              "  <script>\n",
              "    async function quickchart(key) {\n",
              "      const quickchartButtonEl =\n",
              "        document.querySelector('#' + key + ' button');\n",
              "      quickchartButtonEl.disabled = true;  // To prevent multiple clicks.\n",
              "      quickchartButtonEl.classList.add('colab-df-spinner');\n",
              "      try {\n",
              "        const charts = await google.colab.kernel.invokeFunction(\n",
              "            'suggestCharts', [key], {});\n",
              "      } catch (error) {\n",
              "        console.error('Error during call to suggestCharts:', error);\n",
              "      }\n",
              "      quickchartButtonEl.classList.remove('colab-df-spinner');\n",
              "      quickchartButtonEl.classList.add('colab-df-quickchart-complete');\n",
              "    }\n",
              "    (() => {\n",
              "      let quickchartButtonEl =\n",
              "        document.querySelector('#df-a79ace3b-6fb7-43f2-ae5b-253b64b4245d button');\n",
              "      quickchartButtonEl.style.display =\n",
              "        google.colab.kernel.accessAllowed ? 'block' : 'none';\n",
              "    })();\n",
              "  </script>\n",
              "</div>\n",
              "    </div>\n",
              "  </div>\n"
            ],
            "application/vnd.google.colaboratory.intrinsic+json": {
              "type": "dataframe",
              "variable_name": "df_train",
              "summary": "{\n  \"name\": \"df_train\",\n  \"rows\": 26829,\n  \"fields\": [\n    {\n      \"column\": \"id\",\n      \"properties\": {\n        \"dtype\": \"number\",\n        \"std\": 7745,\n        \"min\": 0,\n        \"max\": 26828,\n        \"num_unique_values\": 26829,\n        \"samples\": [\n          5647,\n          4771,\n          5998\n        ],\n        \"semantic_type\": \"\",\n        \"description\": \"\"\n      }\n    },\n    {\n      \"column\": \"Brand\",\n      \"properties\": {\n        \"dtype\": \"category\",\n        \"num_unique_values\": 5,\n        \"samples\": [\n          \"Under Armour\",\n          \"Puma\",\n          \"Nike\"\n        ],\n        \"semantic_type\": \"\",\n        \"description\": \"\"\n      }\n    },\n    {\n      \"column\": \"Material\",\n      \"properties\": {\n        \"dtype\": \"category\",\n        \"num_unique_values\": 4,\n        \"samples\": [\n          \"Canvas\",\n          \"Polyester\",\n          \"Leather\"\n        ],\n        \"semantic_type\": \"\",\n        \"description\": \"\"\n      }\n    },\n    {\n      \"column\": \"Size\",\n      \"properties\": {\n        \"dtype\": \"category\",\n        \"num_unique_values\": 3,\n        \"samples\": [\n          \"Medium\",\n          \"Small\",\n          \"Large\"\n        ],\n        \"semantic_type\": \"\",\n        \"description\": \"\"\n      }\n    },\n    {\n      \"column\": \"Compartments\",\n      \"properties\": {\n        \"dtype\": \"number\",\n        \"std\": 2.8959605053533726,\n        \"min\": 1.0,\n        \"max\": 10.0,\n        \"num_unique_values\": 10,\n        \"samples\": [\n          6.0,\n          10.0,\n          3.0\n        ],\n        \"semantic_type\": \"\",\n        \"description\": \"\"\n      }\n    },\n    {\n      \"column\": \"Laptop Compartment\",\n      \"properties\": {\n        \"dtype\": \"category\",\n        \"num_unique_values\": 3,\n        \"samples\": [\n          \"Yes\",\n          \"No\",\n          \"N\"\n        ],\n        \"semantic_type\": \"\",\n        \"description\": \"\"\n      }\n    },\n    {\n      \"column\": \"Waterproof\",\n      \"properties\": {\n        \"dtype\": \"category\",\n        \"num_unique_values\": 2,\n        \"samples\": [\n          \"Yes\",\n          \"No\"\n        ],\n        \"semantic_type\": \"\",\n        \"description\": \"\"\n      }\n    },\n    {\n      \"column\": \"Style\",\n      \"properties\": {\n        \"dtype\": \"category\",\n        \"num_unique_values\": 3,\n        \"samples\": [\n          \"Tote\",\n          \"Messenger\"\n        ],\n        \"semantic_type\": \"\",\n        \"description\": \"\"\n      }\n    },\n    {\n      \"column\": \"Color\",\n      \"properties\": {\n        \"dtype\": \"category\",\n        \"num_unique_values\": 6,\n        \"samples\": [\n          \"Black\",\n          \"Green\"\n        ],\n        \"semantic_type\": \"\",\n        \"description\": \"\"\n      }\n    },\n    {\n      \"column\": \"Weight Capacity (kg)\",\n      \"properties\": {\n        \"dtype\": \"number\",\n        \"std\": 6.960294244000766,\n        \"min\": 5.0,\n        \"max\": 30.0,\n        \"num_unique_values\": 23061,\n        \"samples\": [\n          21.7824889206745,\n          23.983009374137787\n        ],\n        \"semantic_type\": \"\",\n        \"description\": \"\"\n      }\n    },\n    {\n      \"column\": \"Price\",\n      \"properties\": {\n        \"dtype\": \"number\",\n        \"std\": 38.91329362306038,\n        \"min\": 15.0,\n        \"max\": 150.0,\n        \"num_unique_values\": 20274,\n        \"samples\": [\n          117.72973,\n          36.35365\n        ],\n        \"semantic_type\": \"\",\n        \"description\": \"\"\n      }\n    }\n  ]\n}"
            }
          },
          "metadata": {},
          "execution_count": 4
        }
      ]
    },
    {
      "cell_type": "code",
      "source": [
        "df_test.head()"
      ],
      "metadata": {
        "colab": {
          "base_uri": "https://localhost:8080/",
          "height": 206
        },
        "id": "NbAzwEzdSciv",
        "outputId": "5569973d-9111-4b1b-b488-663dfb37a408"
      },
      "execution_count": 5,
      "outputs": [
        {
          "output_type": "execute_result",
          "data": {
            "text/plain": [
              "       id   Brand Material    Size  ...  Waterproof      Style  Color Weight Capacity (kg)\n",
              "0  300000    Puma  Leather   Small  ...          No       Tote  Green            20.671147\n",
              "1  300001    Nike   Canvas  Medium  ...         Yes   Backpack  Green            13.564105\n",
              "2  300002  Adidas   Canvas   Large  ...         Yes  Messenger   Blue            11.809799\n",
              "3  300003  Adidas    Nylon   Large  ...          No  Messenger  Green            18.477036\n",
              "4  300004     NaN    Nylon   Large  ...         Yes       Tote  Black             9.907953\n",
              "\n",
              "[5 rows x 10 columns]"
            ],
            "text/html": [
              "\n",
              "  <div id=\"df-bcb4a297-8af9-4667-a5f0-e24195b7d314\" class=\"colab-df-container\">\n",
              "    <div>\n",
              "<style scoped>\n",
              "    .dataframe tbody tr th:only-of-type {\n",
              "        vertical-align: middle;\n",
              "    }\n",
              "\n",
              "    .dataframe tbody tr th {\n",
              "        vertical-align: top;\n",
              "    }\n",
              "\n",
              "    .dataframe thead th {\n",
              "        text-align: right;\n",
              "    }\n",
              "</style>\n",
              "<table border=\"1\" class=\"dataframe\">\n",
              "  <thead>\n",
              "    <tr style=\"text-align: right;\">\n",
              "      <th></th>\n",
              "      <th>id</th>\n",
              "      <th>Brand</th>\n",
              "      <th>Material</th>\n",
              "      <th>Size</th>\n",
              "      <th>Compartments</th>\n",
              "      <th>Laptop Compartment</th>\n",
              "      <th>Waterproof</th>\n",
              "      <th>Style</th>\n",
              "      <th>Color</th>\n",
              "      <th>Weight Capacity (kg)</th>\n",
              "    </tr>\n",
              "  </thead>\n",
              "  <tbody>\n",
              "    <tr>\n",
              "      <th>0</th>\n",
              "      <td>300000</td>\n",
              "      <td>Puma</td>\n",
              "      <td>Leather</td>\n",
              "      <td>Small</td>\n",
              "      <td>2.0</td>\n",
              "      <td>No</td>\n",
              "      <td>No</td>\n",
              "      <td>Tote</td>\n",
              "      <td>Green</td>\n",
              "      <td>20.671147</td>\n",
              "    </tr>\n",
              "    <tr>\n",
              "      <th>1</th>\n",
              "      <td>300001</td>\n",
              "      <td>Nike</td>\n",
              "      <td>Canvas</td>\n",
              "      <td>Medium</td>\n",
              "      <td>7.0</td>\n",
              "      <td>No</td>\n",
              "      <td>Yes</td>\n",
              "      <td>Backpack</td>\n",
              "      <td>Green</td>\n",
              "      <td>13.564105</td>\n",
              "    </tr>\n",
              "    <tr>\n",
              "      <th>2</th>\n",
              "      <td>300002</td>\n",
              "      <td>Adidas</td>\n",
              "      <td>Canvas</td>\n",
              "      <td>Large</td>\n",
              "      <td>9.0</td>\n",
              "      <td>No</td>\n",
              "      <td>Yes</td>\n",
              "      <td>Messenger</td>\n",
              "      <td>Blue</td>\n",
              "      <td>11.809799</td>\n",
              "    </tr>\n",
              "    <tr>\n",
              "      <th>3</th>\n",
              "      <td>300003</td>\n",
              "      <td>Adidas</td>\n",
              "      <td>Nylon</td>\n",
              "      <td>Large</td>\n",
              "      <td>1.0</td>\n",
              "      <td>Yes</td>\n",
              "      <td>No</td>\n",
              "      <td>Messenger</td>\n",
              "      <td>Green</td>\n",
              "      <td>18.477036</td>\n",
              "    </tr>\n",
              "    <tr>\n",
              "      <th>4</th>\n",
              "      <td>300004</td>\n",
              "      <td>NaN</td>\n",
              "      <td>Nylon</td>\n",
              "      <td>Large</td>\n",
              "      <td>2.0</td>\n",
              "      <td>Yes</td>\n",
              "      <td>Yes</td>\n",
              "      <td>Tote</td>\n",
              "      <td>Black</td>\n",
              "      <td>9.907953</td>\n",
              "    </tr>\n",
              "  </tbody>\n",
              "</table>\n",
              "</div>\n",
              "    <div class=\"colab-df-buttons\">\n",
              "\n",
              "  <div class=\"colab-df-container\">\n",
              "    <button class=\"colab-df-convert\" onclick=\"convertToInteractive('df-bcb4a297-8af9-4667-a5f0-e24195b7d314')\"\n",
              "            title=\"Convert this dataframe to an interactive table.\"\n",
              "            style=\"display:none;\">\n",
              "\n",
              "  <svg xmlns=\"http://www.w3.org/2000/svg\" height=\"24px\" viewBox=\"0 -960 960 960\">\n",
              "    <path d=\"M120-120v-720h720v720H120Zm60-500h600v-160H180v160Zm220 220h160v-160H400v160Zm0 220h160v-160H400v160ZM180-400h160v-160H180v160Zm440 0h160v-160H620v160ZM180-180h160v-160H180v160Zm440 0h160v-160H620v160Z\"/>\n",
              "  </svg>\n",
              "    </button>\n",
              "\n",
              "  <style>\n",
              "    .colab-df-container {\n",
              "      display:flex;\n",
              "      gap: 12px;\n",
              "    }\n",
              "\n",
              "    .colab-df-convert {\n",
              "      background-color: #E8F0FE;\n",
              "      border: none;\n",
              "      border-radius: 50%;\n",
              "      cursor: pointer;\n",
              "      display: none;\n",
              "      fill: #1967D2;\n",
              "      height: 32px;\n",
              "      padding: 0 0 0 0;\n",
              "      width: 32px;\n",
              "    }\n",
              "\n",
              "    .colab-df-convert:hover {\n",
              "      background-color: #E2EBFA;\n",
              "      box-shadow: 0px 1px 2px rgba(60, 64, 67, 0.3), 0px 1px 3px 1px rgba(60, 64, 67, 0.15);\n",
              "      fill: #174EA6;\n",
              "    }\n",
              "\n",
              "    .colab-df-buttons div {\n",
              "      margin-bottom: 4px;\n",
              "    }\n",
              "\n",
              "    [theme=dark] .colab-df-convert {\n",
              "      background-color: #3B4455;\n",
              "      fill: #D2E3FC;\n",
              "    }\n",
              "\n",
              "    [theme=dark] .colab-df-convert:hover {\n",
              "      background-color: #434B5C;\n",
              "      box-shadow: 0px 1px 3px 1px rgba(0, 0, 0, 0.15);\n",
              "      filter: drop-shadow(0px 1px 2px rgba(0, 0, 0, 0.3));\n",
              "      fill: #FFFFFF;\n",
              "    }\n",
              "  </style>\n",
              "\n",
              "    <script>\n",
              "      const buttonEl =\n",
              "        document.querySelector('#df-bcb4a297-8af9-4667-a5f0-e24195b7d314 button.colab-df-convert');\n",
              "      buttonEl.style.display =\n",
              "        google.colab.kernel.accessAllowed ? 'block' : 'none';\n",
              "\n",
              "      async function convertToInteractive(key) {\n",
              "        const element = document.querySelector('#df-bcb4a297-8af9-4667-a5f0-e24195b7d314');\n",
              "        const dataTable =\n",
              "          await google.colab.kernel.invokeFunction('convertToInteractive',\n",
              "                                                    [key], {});\n",
              "        if (!dataTable) return;\n",
              "\n",
              "        const docLinkHtml = 'Like what you see? Visit the ' +\n",
              "          '<a target=\"_blank\" href=https://colab.research.google.com/notebooks/data_table.ipynb>data table notebook</a>'\n",
              "          + ' to learn more about interactive tables.';\n",
              "        element.innerHTML = '';\n",
              "        dataTable['output_type'] = 'display_data';\n",
              "        await google.colab.output.renderOutput(dataTable, element);\n",
              "        const docLink = document.createElement('div');\n",
              "        docLink.innerHTML = docLinkHtml;\n",
              "        element.appendChild(docLink);\n",
              "      }\n",
              "    </script>\n",
              "  </div>\n",
              "\n",
              "\n",
              "<div id=\"df-c1182b67-f6a7-40a0-9e67-7744de6ee6e7\">\n",
              "  <button class=\"colab-df-quickchart\" onclick=\"quickchart('df-c1182b67-f6a7-40a0-9e67-7744de6ee6e7')\"\n",
              "            title=\"Suggest charts\"\n",
              "            style=\"display:none;\">\n",
              "\n",
              "<svg xmlns=\"http://www.w3.org/2000/svg\" height=\"24px\"viewBox=\"0 0 24 24\"\n",
              "     width=\"24px\">\n",
              "    <g>\n",
              "        <path d=\"M19 3H5c-1.1 0-2 .9-2 2v14c0 1.1.9 2 2 2h14c1.1 0 2-.9 2-2V5c0-1.1-.9-2-2-2zM9 17H7v-7h2v7zm4 0h-2V7h2v10zm4 0h-2v-4h2v4z\"/>\n",
              "    </g>\n",
              "</svg>\n",
              "  </button>\n",
              "\n",
              "<style>\n",
              "  .colab-df-quickchart {\n",
              "      --bg-color: #E8F0FE;\n",
              "      --fill-color: #1967D2;\n",
              "      --hover-bg-color: #E2EBFA;\n",
              "      --hover-fill-color: #174EA6;\n",
              "      --disabled-fill-color: #AAA;\n",
              "      --disabled-bg-color: #DDD;\n",
              "  }\n",
              "\n",
              "  [theme=dark] .colab-df-quickchart {\n",
              "      --bg-color: #3B4455;\n",
              "      --fill-color: #D2E3FC;\n",
              "      --hover-bg-color: #434B5C;\n",
              "      --hover-fill-color: #FFFFFF;\n",
              "      --disabled-bg-color: #3B4455;\n",
              "      --disabled-fill-color: #666;\n",
              "  }\n",
              "\n",
              "  .colab-df-quickchart {\n",
              "    background-color: var(--bg-color);\n",
              "    border: none;\n",
              "    border-radius: 50%;\n",
              "    cursor: pointer;\n",
              "    display: none;\n",
              "    fill: var(--fill-color);\n",
              "    height: 32px;\n",
              "    padding: 0;\n",
              "    width: 32px;\n",
              "  }\n",
              "\n",
              "  .colab-df-quickchart:hover {\n",
              "    background-color: var(--hover-bg-color);\n",
              "    box-shadow: 0 1px 2px rgba(60, 64, 67, 0.3), 0 1px 3px 1px rgba(60, 64, 67, 0.15);\n",
              "    fill: var(--button-hover-fill-color);\n",
              "  }\n",
              "\n",
              "  .colab-df-quickchart-complete:disabled,\n",
              "  .colab-df-quickchart-complete:disabled:hover {\n",
              "    background-color: var(--disabled-bg-color);\n",
              "    fill: var(--disabled-fill-color);\n",
              "    box-shadow: none;\n",
              "  }\n",
              "\n",
              "  .colab-df-spinner {\n",
              "    border: 2px solid var(--fill-color);\n",
              "    border-color: transparent;\n",
              "    border-bottom-color: var(--fill-color);\n",
              "    animation:\n",
              "      spin 1s steps(1) infinite;\n",
              "  }\n",
              "\n",
              "  @keyframes spin {\n",
              "    0% {\n",
              "      border-color: transparent;\n",
              "      border-bottom-color: var(--fill-color);\n",
              "      border-left-color: var(--fill-color);\n",
              "    }\n",
              "    20% {\n",
              "      border-color: transparent;\n",
              "      border-left-color: var(--fill-color);\n",
              "      border-top-color: var(--fill-color);\n",
              "    }\n",
              "    30% {\n",
              "      border-color: transparent;\n",
              "      border-left-color: var(--fill-color);\n",
              "      border-top-color: var(--fill-color);\n",
              "      border-right-color: var(--fill-color);\n",
              "    }\n",
              "    40% {\n",
              "      border-color: transparent;\n",
              "      border-right-color: var(--fill-color);\n",
              "      border-top-color: var(--fill-color);\n",
              "    }\n",
              "    60% {\n",
              "      border-color: transparent;\n",
              "      border-right-color: var(--fill-color);\n",
              "    }\n",
              "    80% {\n",
              "      border-color: transparent;\n",
              "      border-right-color: var(--fill-color);\n",
              "      border-bottom-color: var(--fill-color);\n",
              "    }\n",
              "    90% {\n",
              "      border-color: transparent;\n",
              "      border-bottom-color: var(--fill-color);\n",
              "    }\n",
              "  }\n",
              "</style>\n",
              "\n",
              "  <script>\n",
              "    async function quickchart(key) {\n",
              "      const quickchartButtonEl =\n",
              "        document.querySelector('#' + key + ' button');\n",
              "      quickchartButtonEl.disabled = true;  // To prevent multiple clicks.\n",
              "      quickchartButtonEl.classList.add('colab-df-spinner');\n",
              "      try {\n",
              "        const charts = await google.colab.kernel.invokeFunction(\n",
              "            'suggestCharts', [key], {});\n",
              "      } catch (error) {\n",
              "        console.error('Error during call to suggestCharts:', error);\n",
              "      }\n",
              "      quickchartButtonEl.classList.remove('colab-df-spinner');\n",
              "      quickchartButtonEl.classList.add('colab-df-quickchart-complete');\n",
              "    }\n",
              "    (() => {\n",
              "      let quickchartButtonEl =\n",
              "        document.querySelector('#df-c1182b67-f6a7-40a0-9e67-7744de6ee6e7 button');\n",
              "      quickchartButtonEl.style.display =\n",
              "        google.colab.kernel.accessAllowed ? 'block' : 'none';\n",
              "    })();\n",
              "  </script>\n",
              "</div>\n",
              "    </div>\n",
              "  </div>\n"
            ],
            "application/vnd.google.colaboratory.intrinsic+json": {
              "type": "dataframe",
              "variable_name": "df_test",
              "summary": "{\n  \"name\": \"df_test\",\n  \"rows\": 29786,\n  \"fields\": [\n    {\n      \"column\": \"id\",\n      \"properties\": {\n        \"dtype\": \"number\",\n        \"std\": 8598,\n        \"min\": 300000,\n        \"max\": 329785,\n        \"num_unique_values\": 29786,\n        \"samples\": [\n          326515,\n          325681,\n          311513\n        ],\n        \"semantic_type\": \"\",\n        \"description\": \"\"\n      }\n    },\n    {\n      \"column\": \"Brand\",\n      \"properties\": {\n        \"dtype\": \"category\",\n        \"num_unique_values\": 5,\n        \"samples\": [\n          \"Nike\",\n          \"Jansport\",\n          \"Adidas\"\n        ],\n        \"semantic_type\": \"\",\n        \"description\": \"\"\n      }\n    },\n    {\n      \"column\": \"Material\",\n      \"properties\": {\n        \"dtype\": \"category\",\n        \"num_unique_values\": 4,\n        \"samples\": [\n          \"Canvas\",\n          \"Polyester\",\n          \"Leather\"\n        ],\n        \"semantic_type\": \"\",\n        \"description\": \"\"\n      }\n    },\n    {\n      \"column\": \"Size\",\n      \"properties\": {\n        \"dtype\": \"category\",\n        \"num_unique_values\": 3,\n        \"samples\": [\n          \"Small\",\n          \"Medium\",\n          \"Large\"\n        ],\n        \"semantic_type\": \"\",\n        \"description\": \"\"\n      }\n    },\n    {\n      \"column\": \"Compartments\",\n      \"properties\": {\n        \"dtype\": \"number\",\n        \"std\": 2.8841683168877608,\n        \"min\": 1.0,\n        \"max\": 10.0,\n        \"num_unique_values\": 10,\n        \"samples\": [\n          10.0,\n          7.0,\n          6.0\n        ],\n        \"semantic_type\": \"\",\n        \"description\": \"\"\n      }\n    },\n    {\n      \"column\": \"Laptop Compartment\",\n      \"properties\": {\n        \"dtype\": \"category\",\n        \"num_unique_values\": 2,\n        \"samples\": [\n          \"Yes\",\n          \"No\"\n        ],\n        \"semantic_type\": \"\",\n        \"description\": \"\"\n      }\n    },\n    {\n      \"column\": \"Waterproof\",\n      \"properties\": {\n        \"dtype\": \"category\",\n        \"num_unique_values\": 2,\n        \"samples\": [\n          \"Yes\",\n          \"No\"\n        ],\n        \"semantic_type\": \"\",\n        \"description\": \"\"\n      }\n    },\n    {\n      \"column\": \"Style\",\n      \"properties\": {\n        \"dtype\": \"category\",\n        \"num_unique_values\": 4,\n        \"samples\": [\n          \"Backpack\",\n          \"Tot\"\n        ],\n        \"semantic_type\": \"\",\n        \"description\": \"\"\n      }\n    },\n    {\n      \"column\": \"Color\",\n      \"properties\": {\n        \"dtype\": \"category\",\n        \"num_unique_values\": 6,\n        \"samples\": [\n          \"Green\",\n          \"Blue\"\n        ],\n        \"semantic_type\": \"\",\n        \"description\": \"\"\n      }\n    },\n    {\n      \"column\": \"Weight Capacity (kg)\",\n      \"properties\": {\n        \"dtype\": \"number\",\n        \"std\": 6.967653922971923,\n        \"min\": 5.0,\n        \"max\": 30.0,\n        \"num_unique_values\": 25425,\n        \"samples\": [\n          22.57118809141903,\n          19.441642474469106\n        ],\n        \"semantic_type\": \"\",\n        \"description\": \"\"\n      }\n    }\n  ]\n}"
            }
          },
          "metadata": {},
          "execution_count": 5
        }
      ]
    },
    {
      "cell_type": "code",
      "source": [
        "df_train.info()"
      ],
      "metadata": {
        "colab": {
          "base_uri": "https://localhost:8080/"
        },
        "id": "A4idS34cTqxv",
        "outputId": "a847a0f4-19af-454e-b3f9-d5022fd771e7"
      },
      "execution_count": 6,
      "outputs": [
        {
          "output_type": "stream",
          "name": "stdout",
          "text": [
            "<class 'pandas.core.frame.DataFrame'>\n",
            "RangeIndex: 26829 entries, 0 to 26828\n",
            "Data columns (total 11 columns):\n",
            " #   Column                Non-Null Count  Dtype  \n",
            "---  ------                --------------  -----  \n",
            " 0   id                    26829 non-null  int64  \n",
            " 1   Brand                 25965 non-null  object \n",
            " 2   Material              26060 non-null  object \n",
            " 3   Size                  26238 non-null  object \n",
            " 4   Compartments          26829 non-null  float64\n",
            " 5   Laptop Compartment    26190 non-null  object \n",
            " 6   Waterproof            26196 non-null  object \n",
            " 7   Style                 26125 non-null  object \n",
            " 8   Color                 25903 non-null  object \n",
            " 9   Weight Capacity (kg)  26818 non-null  float64\n",
            " 10  Price                 26828 non-null  float64\n",
            "dtypes: float64(3), int64(1), object(7)\n",
            "memory usage: 2.3+ MB\n"
          ]
        }
      ]
    },
    {
      "cell_type": "markdown",
      "source": [
        "UniqueValue"
      ],
      "metadata": {
        "id": "c2wCfac2U-T5"
      }
    },
    {
      "cell_type": "code",
      "source": [
        "df_train[\"Brand\"].unique()"
      ],
      "metadata": {
        "colab": {
          "base_uri": "https://localhost:8080/"
        },
        "id": "lUHRKj26T2y-",
        "outputId": "bf14f6f9-ed06-4cad-913f-8a83f75a5047"
      },
      "execution_count": 10,
      "outputs": [
        {
          "output_type": "execute_result",
          "data": {
            "text/plain": [
              "array(['Jansport', 'Under Armour', 'Nike', 'Adidas', 'Puma', nan],\n",
              "      dtype=object)"
            ]
          },
          "metadata": {},
          "execution_count": 10
        }
      ]
    },
    {
      "cell_type": "code",
      "source": [
        "df_train[\"Material\"].unique()"
      ],
      "metadata": {
        "colab": {
          "base_uri": "https://localhost:8080/"
        },
        "id": "vifScMDfUISA",
        "outputId": "5c1bec48-a7a4-4f55-e252-bfde075265cc"
      },
      "execution_count": 11,
      "outputs": [
        {
          "output_type": "execute_result",
          "data": {
            "text/plain": [
              "array(['Leather', 'Canvas', 'Nylon', nan, 'Polyester'], dtype=object)"
            ]
          },
          "metadata": {},
          "execution_count": 11
        }
      ]
    },
    {
      "cell_type": "code",
      "source": [
        "df_train[\"Size\"].unique()"
      ],
      "metadata": {
        "colab": {
          "base_uri": "https://localhost:8080/"
        },
        "id": "VHdaIJ49UORh",
        "outputId": "faf81a1c-380a-415c-941b-937999709240"
      },
      "execution_count": 12,
      "outputs": [
        {
          "output_type": "execute_result",
          "data": {
            "text/plain": [
              "array(['Medium', 'Small', 'Large', nan], dtype=object)"
            ]
          },
          "metadata": {},
          "execution_count": 12
        }
      ]
    },
    {
      "cell_type": "code",
      "source": [
        "df_train[\"Compartments\"].unique()"
      ],
      "metadata": {
        "colab": {
          "base_uri": "https://localhost:8080/"
        },
        "id": "IWwzgGBkUST7",
        "outputId": "faa84f9a-e010-416d-fa30-2bb258e541f2"
      },
      "execution_count": 13,
      "outputs": [
        {
          "output_type": "execute_result",
          "data": {
            "text/plain": [
              "array([ 7., 10.,  2.,  8.,  1.,  3.,  5.,  9.,  6.,  4.])"
            ]
          },
          "metadata": {},
          "execution_count": 13
        }
      ]
    },
    {
      "cell_type": "code",
      "source": [
        "df_train[\"Laptop Compartment\"].unique()"
      ],
      "metadata": {
        "colab": {
          "base_uri": "https://localhost:8080/"
        },
        "id": "xAZ81lDcUW8a",
        "outputId": "ca5a9082-22f8-4887-d410-dd104a2e7d68"
      },
      "execution_count": 14,
      "outputs": [
        {
          "output_type": "execute_result",
          "data": {
            "text/plain": [
              "array(['Yes', 'No', nan, 'N'], dtype=object)"
            ]
          },
          "metadata": {},
          "execution_count": 14
        }
      ]
    },
    {
      "cell_type": "code",
      "source": [
        "df_train[\"Waterproof\"].unique()"
      ],
      "metadata": {
        "colab": {
          "base_uri": "https://localhost:8080/"
        },
        "id": "Mq2GkuqSUZZ4",
        "outputId": "80d32492-3d38-4752-f847-6ad0421db45b"
      },
      "execution_count": 15,
      "outputs": [
        {
          "output_type": "execute_result",
          "data": {
            "text/plain": [
              "array(['No', 'Yes', nan], dtype=object)"
            ]
          },
          "metadata": {},
          "execution_count": 15
        }
      ]
    },
    {
      "cell_type": "code",
      "source": [
        "df_train[\"Style\"].unique()"
      ],
      "metadata": {
        "colab": {
          "base_uri": "https://localhost:8080/"
        },
        "id": "RkIiMEffUdXq",
        "outputId": "d06572c2-e9df-4892-f17a-29a78c798281"
      },
      "execution_count": 16,
      "outputs": [
        {
          "output_type": "execute_result",
          "data": {
            "text/plain": [
              "array(['Tote', 'Messenger', nan, 'Backpack'], dtype=object)"
            ]
          },
          "metadata": {},
          "execution_count": 16
        }
      ]
    },
    {
      "cell_type": "code",
      "source": [
        "df_train[\"Color\"].unique()"
      ],
      "metadata": {
        "colab": {
          "base_uri": "https://localhost:8080/"
        },
        "id": "FAFW6OcAUjYM",
        "outputId": "c66e1db0-b627-4362-edd0-ec4532d2f4e6"
      },
      "execution_count": 17,
      "outputs": [
        {
          "output_type": "execute_result",
          "data": {
            "text/plain": [
              "array(['Black', 'Green', 'Red', 'Blue', 'Gray', 'Pink', nan], dtype=object)"
            ]
          },
          "metadata": {},
          "execution_count": 17
        }
      ]
    },
    {
      "cell_type": "code",
      "source": [
        "df_train[\"Weight Capacity (kg)\"].unique()"
      ],
      "metadata": {
        "colab": {
          "base_uri": "https://localhost:8080/"
        },
        "id": "r193YYu0Ulce",
        "outputId": "3f989121-a734-4f3a-d2eb-8639e69cfd71"
      },
      "execution_count": 18,
      "outputs": [
        {
          "output_type": "execute_result",
          "data": {
            "text/plain": [
              "array([11.61172281, 27.07853658, 16.64375995, ..., 14.37752844,\n",
              "       17.86598434, 25.56784303])"
            ]
          },
          "metadata": {},
          "execution_count": 18
        }
      ]
    },
    {
      "cell_type": "code",
      "source": [
        "df_train[\"Price\"].unique()"
      ],
      "metadata": {
        "colab": {
          "base_uri": "https://localhost:8080/"
        },
        "id": "NeuzqZI9UqTi",
        "outputId": "d5e22483-bfb0-4d9f-daf7-a796e7a5b71d"
      },
      "execution_count": 19,
      "outputs": [
        {
          "output_type": "execute_result",
          "data": {
            "text/plain": [
              "array([112.15875,  68.88056,  39.1732 , ...,  48.75807,  91.13504,\n",
              "             nan])"
            ]
          },
          "metadata": {},
          "execution_count": 19
        }
      ]
    },
    {
      "cell_type": "markdown",
      "source": [
        "THEN"
      ],
      "metadata": {
        "id": "E2bJUCCBVIsk"
      }
    },
    {
      "cell_type": "code",
      "source": [
        "df_train.isnull().sum()"
      ],
      "metadata": {
        "colab": {
          "base_uri": "https://localhost:8080/",
          "height": 429
        },
        "id": "ICUo5r3nVIEt",
        "outputId": "932dca39-9d8f-4705-fee8-233d043a9559"
      },
      "execution_count": 27,
      "outputs": [
        {
          "output_type": "execute_result",
          "data": {
            "text/plain": [
              "id                        0\n",
              "Brand                   864\n",
              "Material                769\n",
              "Size                    591\n",
              "Compartments              0\n",
              "Laptop Compartment      639\n",
              "Waterproof              633\n",
              "Style                   704\n",
              "Color                   926\n",
              "Weight Capacity (kg)     11\n",
              "Price                     1\n",
              "dtype: int64"
            ],
            "text/html": [
              "<div>\n",
              "<style scoped>\n",
              "    .dataframe tbody tr th:only-of-type {\n",
              "        vertical-align: middle;\n",
              "    }\n",
              "\n",
              "    .dataframe tbody tr th {\n",
              "        vertical-align: top;\n",
              "    }\n",
              "\n",
              "    .dataframe thead th {\n",
              "        text-align: right;\n",
              "    }\n",
              "</style>\n",
              "<table border=\"1\" class=\"dataframe\">\n",
              "  <thead>\n",
              "    <tr style=\"text-align: right;\">\n",
              "      <th></th>\n",
              "      <th>0</th>\n",
              "    </tr>\n",
              "  </thead>\n",
              "  <tbody>\n",
              "    <tr>\n",
              "      <th>id</th>\n",
              "      <td>0</td>\n",
              "    </tr>\n",
              "    <tr>\n",
              "      <th>Brand</th>\n",
              "      <td>864</td>\n",
              "    </tr>\n",
              "    <tr>\n",
              "      <th>Material</th>\n",
              "      <td>769</td>\n",
              "    </tr>\n",
              "    <tr>\n",
              "      <th>Size</th>\n",
              "      <td>591</td>\n",
              "    </tr>\n",
              "    <tr>\n",
              "      <th>Compartments</th>\n",
              "      <td>0</td>\n",
              "    </tr>\n",
              "    <tr>\n",
              "      <th>Laptop Compartment</th>\n",
              "      <td>639</td>\n",
              "    </tr>\n",
              "    <tr>\n",
              "      <th>Waterproof</th>\n",
              "      <td>633</td>\n",
              "    </tr>\n",
              "    <tr>\n",
              "      <th>Style</th>\n",
              "      <td>704</td>\n",
              "    </tr>\n",
              "    <tr>\n",
              "      <th>Color</th>\n",
              "      <td>926</td>\n",
              "    </tr>\n",
              "    <tr>\n",
              "      <th>Weight Capacity (kg)</th>\n",
              "      <td>11</td>\n",
              "    </tr>\n",
              "    <tr>\n",
              "      <th>Price</th>\n",
              "      <td>1</td>\n",
              "    </tr>\n",
              "  </tbody>\n",
              "</table>\n",
              "</div><br><label><b>dtype:</b> int64</label>"
            ]
          },
          "metadata": {},
          "execution_count": 27
        }
      ]
    },
    {
      "cell_type": "code",
      "source": [
        "plt.figure(figsize=(8,5))\n",
        "sns.barplot(x=df_train[\"Size\"],y=df_train[\"Price\"],palette=[\"red\", \"green\",\"blue\",\"yellow\"])\n",
        "\n",
        "\n",
        "#Price\n",
        "plt.show()"
      ],
      "metadata": {
        "colab": {
          "base_uri": "https://localhost:8080/",
          "height": 586
        },
        "id": "i7dPSqnhWT0w",
        "outputId": "ecffb2de-c8cf-4fff-82cd-a0b75a7ddda4"
      },
      "execution_count": 32,
      "outputs": [
        {
          "output_type": "display_data",
          "data": {
            "text/plain": [
              "<IPython.core.display.Javascript object>"
            ],
            "application/javascript": [
              "\n",
              "        if (window._pyforest_update_imports_cell) { window._pyforest_update_imports_cell('import statistics\\nfrom scipy import stats\\nfrom sklearn.linear_model import LinearRegression\\nfrom sklearn.preprocessing import MinMaxScaler\\nimport spacy\\nfrom sklearn.preprocessing import LabelEncoder\\nfrom sklearn.model_selection import GridSearchCV\\nimport xgboost as xgb\\nimport pydot\\nimport pandas as pd\\nfrom scipy import signal as sg\\nimport statsmodels.api as sm\\nimport plotly as py\\nfrom PIL import Image\\nimport seaborn as sns\\nfrom sklearn.linear_model import LassoCV\\nimport matplotlib.pyplot as plt\\nimport skimage\\nfrom sklearn.cluster import KMeans\\nimport pickle\\nfrom sklearn.linear_model import LogisticRegression\\nimport sklearn\\nfrom sklearn.model_selection import KFold\\nimport fastai\\nimport sys\\nfrom sklearn.linear_model import ElasticNetCV\\nfrom sklearn import svm\\nfrom sklearn.ensemble import GradientBoostingClassifier\\nimport plotly.express as px\\nfrom sklearn.linear_model import ElasticNet\\nfrom sklearn.feature_extraction.text import CountVectorizer\\nfrom sklearn.ensemble import GradientBoostingRegressor\\nfrom statsmodels.tsa.arima_model import ARIMA\\nfrom sklearn.linear_model import Lasso'); }\n",
              "    "
            ]
          },
          "metadata": {}
        },
        {
          "output_type": "display_data",
          "data": {
            "text/plain": [
              "<IPython.core.display.Javascript object>"
            ],
            "application/javascript": [
              "\n",
              "        if (window._pyforest_update_imports_cell) { window._pyforest_update_imports_cell('import statistics\\nfrom scipy import stats\\nfrom sklearn.linear_model import LinearRegression\\nfrom sklearn.preprocessing import MinMaxScaler\\nimport spacy\\nfrom sklearn.preprocessing import LabelEncoder\\nfrom sklearn.model_selection import GridSearchCV\\nimport xgboost as xgb\\nimport pydot\\nimport pandas as pd\\nfrom scipy import signal as sg\\nimport statsmodels.api as sm\\nimport plotly as py\\nfrom PIL import Image\\nimport seaborn as sns\\nfrom sklearn.linear_model import LassoCV\\nimport matplotlib.pyplot as plt\\nimport skimage\\nfrom sklearn.cluster import KMeans\\nimport pickle\\nfrom sklearn.linear_model import LogisticRegression\\nimport sklearn\\nfrom sklearn.model_selection import KFold\\nimport fastai\\nimport sys\\nfrom sklearn.linear_model import ElasticNetCV\\nfrom sklearn import svm\\nfrom sklearn.ensemble import GradientBoostingClassifier\\nimport plotly.express as px\\nfrom sklearn.linear_model import ElasticNet\\nfrom sklearn.feature_extraction.text import CountVectorizer\\nfrom sklearn.ensemble import GradientBoostingRegressor\\nfrom statsmodels.tsa.arima_model import ARIMA\\nfrom sklearn.linear_model import Lasso'); }\n",
              "    "
            ]
          },
          "metadata": {}
        },
        {
          "output_type": "stream",
          "name": "stderr",
          "text": [
            "<ipython-input-32-81d9f22b52a4>:2: FutureWarning: \n",
            "\n",
            "Passing `palette` without assigning `hue` is deprecated and will be removed in v0.14.0. Assign the `x` variable to `hue` and set `legend=False` for the same effect.\n",
            "\n",
            "  sns.barplot(x=df_train[\"Size\"],y=df_train[\"Price\"],palette=[\"red\", \"green\",\"blue\",\"yellow\"])\n",
            "<ipython-input-32-81d9f22b52a4>:2: UserWarning: The palette list has more values (4) than needed (3), which may not be intended.\n",
            "  sns.barplot(x=df_train[\"Size\"],y=df_train[\"Price\"],palette=[\"red\", \"green\",\"blue\",\"yellow\"])\n"
          ]
        },
        {
          "output_type": "display_data",
          "data": {
            "text/plain": [
              "<IPython.core.display.Javascript object>"
            ],
            "application/javascript": [
              "\n",
              "        if (window._pyforest_update_imports_cell) { window._pyforest_update_imports_cell('import statistics\\nfrom scipy import stats\\nfrom sklearn.linear_model import LinearRegression\\nfrom sklearn.preprocessing import MinMaxScaler\\nimport spacy\\nfrom sklearn.preprocessing import LabelEncoder\\nfrom sklearn.model_selection import GridSearchCV\\nimport xgboost as xgb\\nimport pydot\\nimport pandas as pd\\nfrom scipy import signal as sg\\nimport statsmodels.api as sm\\nimport plotly as py\\nfrom PIL import Image\\nimport seaborn as sns\\nfrom sklearn.linear_model import LassoCV\\nimport matplotlib.pyplot as plt\\nimport skimage\\nfrom sklearn.cluster import KMeans\\nimport pickle\\nfrom sklearn.linear_model import LogisticRegression\\nimport sklearn\\nfrom sklearn.model_selection import KFold\\nimport fastai\\nimport sys\\nfrom sklearn.linear_model import ElasticNetCV\\nfrom sklearn import svm\\nfrom sklearn.ensemble import GradientBoostingClassifier\\nimport plotly.express as px\\nfrom sklearn.linear_model import ElasticNet\\nfrom sklearn.feature_extraction.text import CountVectorizer\\nfrom sklearn.ensemble import GradientBoostingRegressor\\nfrom statsmodels.tsa.arima_model import ARIMA\\nfrom sklearn.linear_model import Lasso'); }\n",
              "    "
            ]
          },
          "metadata": {}
        },
        {
          "output_type": "display_data",
          "data": {
            "text/plain": [
              "<Figure size 800x500 with 1 Axes>"
            ],
            "image/png": "[encoded data removed]"
          },
          "metadata": {}
        }
      ]
    },
    {
      "cell_type": "code",
      "source": [
        "plt.figure(figsize=(8,5))\n",
        "sns.barplot(x=df_train[\"Material\"],y=df_train[\"Price\"],palette=[\"red\", \"green\",\"blue\",\"yellow\"])\n",
        "\n",
        "plt.show()"
      ],
      "metadata": {
        "colab": {
          "base_uri": "https://localhost:8080/",
          "height": 552
        },
        "id": "sxlid-K3XjNf",
        "outputId": "efa5caee-0ff3-47ec-cfb6-7601d25f6ccb"
      },
      "execution_count": 33,
      "outputs": [
        {
          "output_type": "display_data",
          "data": {
            "text/plain": [
              "<IPython.core.display.Javascript object>"
            ],
            "application/javascript": [
              "\n",
              "        if (window._pyforest_update_imports_cell) { window._pyforest_update_imports_cell('import statistics\\nfrom scipy import stats\\nfrom sklearn.linear_model import LinearRegression\\nfrom sklearn.preprocessing import MinMaxScaler\\nimport spacy\\nfrom sklearn.preprocessing import LabelEncoder\\nfrom sklearn.model_selection import GridSearchCV\\nimport xgboost as xgb\\nimport pydot\\nimport pandas as pd\\nfrom scipy import signal as sg\\nimport statsmodels.api as sm\\nimport plotly as py\\nfrom PIL import Image\\nimport seaborn as sns\\nfrom sklearn.linear_model import LassoCV\\nimport matplotlib.pyplot as plt\\nimport skimage\\nfrom sklearn.cluster import KMeans\\nimport pickle\\nfrom sklearn.linear_model import LogisticRegression\\nimport sklearn\\nfrom sklearn.model_selection import KFold\\nimport fastai\\nimport sys\\nfrom sklearn.linear_model import ElasticNetCV\\nfrom sklearn import svm\\nfrom sklearn.ensemble import GradientBoostingClassifier\\nimport plotly.express as px\\nfrom sklearn.linear_model import ElasticNet\\nfrom sklearn.feature_extraction.text import CountVectorizer\\nfrom sklearn.ensemble import GradientBoostingRegressor\\nfrom statsmodels.tsa.arima_model import ARIMA\\nfrom sklearn.linear_model import Lasso'); }\n",
              "    "
            ]
          },
          "metadata": {}
        },
        {
          "output_type": "display_data",
          "data": {
            "text/plain": [
              "<IPython.core.display.Javascript object>"
            ],
            "application/javascript": [
              "\n",
              "        if (window._pyforest_update_imports_cell) { window._pyforest_update_imports_cell('import statistics\\nfrom scipy import stats\\nfrom sklearn.linear_model import LinearRegression\\nfrom sklearn.preprocessing import MinMaxScaler\\nimport spacy\\nfrom sklearn.preprocessing import LabelEncoder\\nfrom sklearn.model_selection import GridSearchCV\\nimport xgboost as xgb\\nimport pydot\\nimport pandas as pd\\nfrom scipy import signal as sg\\nimport statsmodels.api as sm\\nimport plotly as py\\nfrom PIL import Image\\nimport seaborn as sns\\nfrom sklearn.linear_model import LassoCV\\nimport matplotlib.pyplot as plt\\nimport skimage\\nfrom sklearn.cluster import KMeans\\nimport pickle\\nfrom sklearn.linear_model import LogisticRegression\\nimport sklearn\\nfrom sklearn.model_selection import KFold\\nimport fastai\\nimport sys\\nfrom sklearn.linear_model import ElasticNetCV\\nfrom sklearn import svm\\nfrom sklearn.ensemble import GradientBoostingClassifier\\nimport plotly.express as px\\nfrom sklearn.linear_model import ElasticNet\\nfrom sklearn.feature_extraction.text import CountVectorizer\\nfrom sklearn.ensemble import GradientBoostingRegressor\\nfrom statsmodels.tsa.arima_model import ARIMA\\nfrom sklearn.linear_model import Lasso'); }\n",
              "    "
            ]
          },
          "metadata": {}
        },
        {
          "output_type": "stream",
          "name": "stderr",
          "text": [
            "<ipython-input-33-0245a9987257>:2: FutureWarning: \n",
            "\n",
            "Passing `palette` without assigning `hue` is deprecated and will be removed in v0.14.0. Assign the `x` variable to `hue` and set `legend=False` for the same effect.\n",
            "\n",
            "  sns.barplot(x=df_train[\"Material\"],y=df_train[\"Price\"],palette=[\"red\", \"green\",\"blue\",\"yellow\"])\n"
          ]
        },
        {
          "output_type": "display_data",
          "data": {
            "text/plain": [
              "<IPython.core.display.Javascript object>"
            ],
            "application/javascript": [
              "\n",
              "        if (window._pyforest_update_imports_cell) { window._pyforest_update_imports_cell('import statistics\\nfrom scipy import stats\\nfrom sklearn.linear_model import LinearRegression\\nfrom sklearn.preprocessing import MinMaxScaler\\nimport spacy\\nfrom sklearn.preprocessing import LabelEncoder\\nfrom sklearn.model_selection import GridSearchCV\\nimport xgboost as xgb\\nimport pydot\\nimport pandas as pd\\nfrom scipy import signal as sg\\nimport statsmodels.api as sm\\nimport plotly as py\\nfrom PIL import Image\\nimport seaborn as sns\\nfrom sklearn.linear_model import LassoCV\\nimport matplotlib.pyplot as plt\\nimport skimage\\nfrom sklearn.cluster import KMeans\\nimport pickle\\nfrom sklearn.linear_model import LogisticRegression\\nimport sklearn\\nfrom sklearn.model_selection import KFold\\nimport fastai\\nimport sys\\nfrom sklearn.linear_model import ElasticNetCV\\nfrom sklearn import svm\\nfrom sklearn.ensemble import GradientBoostingClassifier\\nimport plotly.express as px\\nfrom sklearn.linear_model import ElasticNet\\nfrom sklearn.feature_extraction.text import CountVectorizer\\nfrom sklearn.ensemble import GradientBoostingRegressor\\nfrom statsmodels.tsa.arima_model import ARIMA\\nfrom sklearn.linear_model import Lasso'); }\n",
              "    "
            ]
          },
          "metadata": {}
        },
        {
          "output_type": "display_data",
          "data": {
            "text/plain": [
              "<Figure size 800x500 with 1 Axes>"
            ],
            "image/png": "[encoded data removed]"
          },
          "metadata": {}
        }
      ]
    },
    {
      "cell_type": "code",
      "source": [
        "plt.figure(figsize=(8,5))\n",
        "sns.barplot(x=df_train[\"Style\"],y=df_train[\"Price\"],palette=[\"red\", \"green\",\"blue\",\"yellow\"])\n",
        "\n",
        "plt.show()"
      ],
      "metadata": {
        "colab": {
          "base_uri": "https://localhost:8080/",
          "height": 586
        },
        "id": "6Lr_ekIgYCyq",
        "outputId": "dc2285f5-ac2e-4520-f4dd-b27e19ac6658"
      },
      "execution_count": 34,
      "outputs": [
        {
          "output_type": "display_data",
          "data": {
            "text/plain": [
              "<IPython.core.display.Javascript object>"
            ],
            "application/javascript": [
              "\n",
              "        if (window._pyforest_update_imports_cell) { window._pyforest_update_imports_cell('import statistics\\nfrom scipy import stats\\nfrom sklearn.linear_model import LinearRegression\\nfrom sklearn.preprocessing import MinMaxScaler\\nimport spacy\\nfrom sklearn.preprocessing import LabelEncoder\\nfrom sklearn.model_selection import GridSearchCV\\nimport xgboost as xgb\\nimport pydot\\nimport pandas as pd\\nfrom scipy import signal as sg\\nimport statsmodels.api as sm\\nimport plotly as py\\nfrom PIL import Image\\nimport seaborn as sns\\nfrom sklearn.linear_model import LassoCV\\nimport matplotlib.pyplot as plt\\nimport skimage\\nfrom sklearn.cluster import KMeans\\nimport pickle\\nfrom sklearn.linear_model import LogisticRegression\\nimport sklearn\\nfrom sklearn.model_selection import KFold\\nimport fastai\\nimport sys\\nfrom sklearn.linear_model import ElasticNetCV\\nfrom sklearn import svm\\nfrom sklearn.ensemble import GradientBoostingClassifier\\nimport plotly.express as px\\nfrom sklearn.linear_model import ElasticNet\\nfrom sklearn.feature_extraction.text import CountVectorizer\\nfrom sklearn.ensemble import GradientBoostingRegressor\\nfrom statsmodels.tsa.arima_model import ARIMA\\nfrom sklearn.linear_model import Lasso'); }\n",
              "    "
            ]
          },
          "metadata": {}
        },
        {
          "output_type": "display_data",
          "data": {
            "text/plain": [
              "<IPython.core.display.Javascript object>"
            ],
            "application/javascript": [
              "\n",
              "        if (window._pyforest_update_imports_cell) { window._pyforest_update_imports_cell('import statistics\\nfrom scipy import stats\\nfrom sklearn.linear_model import LinearRegression\\nfrom sklearn.preprocessing import MinMaxScaler\\nimport spacy\\nfrom sklearn.preprocessing import LabelEncoder\\nfrom sklearn.model_selection import GridSearchCV\\nimport xgboost as xgb\\nimport pydot\\nimport pandas as pd\\nfrom scipy import signal as sg\\nimport statsmodels.api as sm\\nimport plotly as py\\nfrom PIL import Image\\nimport seaborn as sns\\nfrom sklearn.linear_model import LassoCV\\nimport matplotlib.pyplot as plt\\nimport skimage\\nfrom sklearn.cluster import KMeans\\nimport pickle\\nfrom sklearn.linear_model import LogisticRegression\\nimport sklearn\\nfrom sklearn.model_selection import KFold\\nimport fastai\\nimport sys\\nfrom sklearn.linear_model import ElasticNetCV\\nfrom sklearn import svm\\nfrom sklearn.ensemble import GradientBoostingClassifier\\nimport plotly.express as px\\nfrom sklearn.linear_model import ElasticNet\\nfrom sklearn.feature_extraction.text import CountVectorizer\\nfrom sklearn.ensemble import GradientBoostingRegressor\\nfrom statsmodels.tsa.arima_model import ARIMA\\nfrom sklearn.linear_model import Lasso'); }\n",
              "    "
            ]
          },
          "metadata": {}
        },
        {
          "output_type": "stream",
          "name": "stderr",
          "text": [
            "<ipython-input-34-0343e4caf9ae>:2: FutureWarning: \n",
            "\n",
            "Passing `palette` without assigning `hue` is deprecated and will be removed in v0.14.0. Assign the `x` variable to `hue` and set `legend=False` for the same effect.\n",
            "\n",
            "  sns.barplot(x=df_train[\"Style\"],y=df_train[\"Price\"],palette=[\"red\", \"green\",\"blue\",\"yellow\"])\n",
            "<ipython-input-34-0343e4caf9ae>:2: UserWarning: The palette list has more values (4) than needed (3), which may not be intended.\n",
            "  sns.barplot(x=df_train[\"Style\"],y=df_train[\"Price\"],palette=[\"red\", \"green\",\"blue\",\"yellow\"])\n"
          ]
        },
        {
          "output_type": "display_data",
          "data": {
            "text/plain": [
              "<IPython.core.display.Javascript object>"
            ],
            "application/javascript": [
              "\n",
              "        if (window._pyforest_update_imports_cell) { window._pyforest_update_imports_cell('import statistics\\nfrom scipy import stats\\nfrom sklearn.linear_model import LinearRegression\\nfrom sklearn.preprocessing import MinMaxScaler\\nimport spacy\\nfrom sklearn.preprocessing import LabelEncoder\\nfrom sklearn.model_selection import GridSearchCV\\nimport xgboost as xgb\\nimport pydot\\nimport pandas as pd\\nfrom scipy import signal as sg\\nimport statsmodels.api as sm\\nimport plotly as py\\nfrom PIL import Image\\nimport seaborn as sns\\nfrom sklearn.linear_model import LassoCV\\nimport matplotlib.pyplot as plt\\nimport skimage\\nfrom sklearn.cluster import KMeans\\nimport pickle\\nfrom sklearn.linear_model import LogisticRegression\\nimport sklearn\\nfrom sklearn.model_selection import KFold\\nimport fastai\\nimport sys\\nfrom sklearn.linear_model import ElasticNetCV\\nfrom sklearn import svm\\nfrom sklearn.ensemble import GradientBoostingClassifier\\nimport plotly.express as px\\nfrom sklearn.linear_model import ElasticNet\\nfrom sklearn.feature_extraction.text import CountVectorizer\\nfrom sklearn.ensemble import GradientBoostingRegressor\\nfrom statsmodels.tsa.arima_model import ARIMA\\nfrom sklearn.linear_model import Lasso'); }\n",
              "    "
            ]
          },
          "metadata": {}
        },
        {
          "output_type": "display_data",
          "data": {
            "text/plain": [
              "<Figure size 800x500 with 1 Axes>"
            ],
            "image/png": "[encoded data removed]"
          },
          "metadata": {}
        }
      ]
    },
    {
      "cell_type": "code",
      "source": [
        "plt.figure(figsize=(8,5))\n",
        "sns.barplot(x=df_train[\"Color\"],y=df_train[\"Price\"],palette=[\"black\", \"green\",\"red\",\"blue\",\"gray\",\"pink\"])\n",
        "\n",
        "plt.show()"
      ],
      "metadata": {
        "colab": {
          "base_uri": "https://localhost:8080/",
          "height": 552
        },
        "id": "YFTtIUEeX1vB",
        "outputId": "d54751c0-5eb1-4dfa-dba3-88d48ee72309"
      },
      "execution_count": 37,
      "outputs": [
        {
          "output_type": "display_data",
          "data": {
            "text/plain": [
              "<IPython.core.display.Javascript object>"
            ],
            "application/javascript": [
              "\n",
              "        if (window._pyforest_update_imports_cell) { window._pyforest_update_imports_cell('import statistics\\nfrom scipy import stats\\nfrom sklearn.linear_model import LinearRegression\\nfrom sklearn.preprocessing import MinMaxScaler\\nimport spacy\\nfrom sklearn.preprocessing import LabelEncoder\\nfrom sklearn.model_selection import GridSearchCV\\nimport xgboost as xgb\\nimport pydot\\nimport pandas as pd\\nfrom scipy import signal as sg\\nimport statsmodels.api as sm\\nimport plotly as py\\nfrom PIL import Image\\nimport seaborn as sns\\nfrom sklearn.linear_model import LassoCV\\nimport matplotlib.pyplot as plt\\nimport skimage\\nfrom sklearn.cluster import KMeans\\nimport pickle\\nfrom sklearn.linear_model import LogisticRegression\\nimport sklearn\\nfrom sklearn.model_selection import KFold\\nimport fastai\\nimport sys\\nfrom sklearn.linear_model import ElasticNetCV\\nfrom sklearn import svm\\nfrom sklearn.ensemble import GradientBoostingClassifier\\nimport plotly.express as px\\nfrom sklearn.linear_model import ElasticNet\\nfrom sklearn.feature_extraction.text import CountVectorizer\\nfrom sklearn.ensemble import GradientBoostingRegressor\\nfrom statsmodels.tsa.arima_model import ARIMA\\nfrom sklearn.linear_model import Lasso'); }\n",
              "    "
            ]
          },
          "metadata": {}
        },
        {
          "output_type": "display_data",
          "data": {
            "text/plain": [
              "<IPython.core.display.Javascript object>"
            ],
            "application/javascript": [
              "\n",
              "        if (window._pyforest_update_imports_cell) { window._pyforest_update_imports_cell('import statistics\\nfrom scipy import stats\\nfrom sklearn.linear_model import LinearRegression\\nfrom sklearn.preprocessing import MinMaxScaler\\nimport spacy\\nfrom sklearn.preprocessing import LabelEncoder\\nfrom sklearn.model_selection import GridSearchCV\\nimport xgboost as xgb\\nimport pydot\\nimport pandas as pd\\nfrom scipy import signal as sg\\nimport statsmodels.api as sm\\nimport plotly as py\\nfrom PIL import Image\\nimport seaborn as sns\\nfrom sklearn.linear_model import LassoCV\\nimport matplotlib.pyplot as plt\\nimport skimage\\nfrom sklearn.cluster import KMeans\\nimport pickle\\nfrom sklearn.linear_model import LogisticRegression\\nimport sklearn\\nfrom sklearn.model_selection import KFold\\nimport fastai\\nimport sys\\nfrom sklearn.linear_model import ElasticNetCV\\nfrom sklearn import svm\\nfrom sklearn.ensemble import GradientBoostingClassifier\\nimport plotly.express as px\\nfrom sklearn.linear_model import ElasticNet\\nfrom sklearn.feature_extraction.text import CountVectorizer\\nfrom sklearn.ensemble import GradientBoostingRegressor\\nfrom statsmodels.tsa.arima_model import ARIMA\\nfrom sklearn.linear_model import Lasso'); }\n",
              "    "
            ]
          },
          "metadata": {}
        },
        {
          "output_type": "stream",
          "name": "stderr",
          "text": [
            "<ipython-input-37-f8e301d621d2>:2: FutureWarning: \n",
            "\n",
            "Passing `palette` without assigning `hue` is deprecated and will be removed in v0.14.0. Assign the `x` variable to `hue` and set `legend=False` for the same effect.\n",
            "\n",
            "  sns.barplot(x=df_train[\"Color\"],y=df_train[\"Price\"],palette=[\"black\", \"green\",\"red\",\"blue\",\"gray\",\"pink\"])\n"
          ]
        },
        {
          "output_type": "display_data",
          "data": {
            "text/plain": [
              "<IPython.core.display.Javascript object>"
            ],
            "application/javascript": [
              "\n",
              "        if (window._pyforest_update_imports_cell) { window._pyforest_update_imports_cell('import statistics\\nfrom scipy import stats\\nfrom sklearn.linear_model import LinearRegression\\nfrom sklearn.preprocessing import MinMaxScaler\\nimport spacy\\nfrom sklearn.preprocessing import LabelEncoder\\nfrom sklearn.model_selection import GridSearchCV\\nimport xgboost as xgb\\nimport pydot\\nimport pandas as pd\\nfrom scipy import signal as sg\\nimport statsmodels.api as sm\\nimport plotly as py\\nfrom PIL import Image\\nimport seaborn as sns\\nfrom sklearn.linear_model import LassoCV\\nimport matplotlib.pyplot as plt\\nimport skimage\\nfrom sklearn.cluster import KMeans\\nimport pickle\\nfrom sklearn.linear_model import LogisticRegression\\nimport sklearn\\nfrom sklearn.model_selection import KFold\\nimport fastai\\nimport sys\\nfrom sklearn.linear_model import ElasticNetCV\\nfrom sklearn import svm\\nfrom sklearn.ensemble import GradientBoostingClassifier\\nimport plotly.express as px\\nfrom sklearn.linear_model import ElasticNet\\nfrom sklearn.feature_extraction.text import CountVectorizer\\nfrom sklearn.ensemble import GradientBoostingRegressor\\nfrom statsmodels.tsa.arima_model import ARIMA\\nfrom sklearn.linear_model import Lasso'); }\n",
              "    "
            ]
          },
          "metadata": {}
        },
        {
          "output_type": "display_data",
          "data": {
            "text/plain": [
              "<Figure size 800x500 with 1 Axes>"
            ],
            "image/png": "[encoded data removed]"
          },
          "metadata": {}
        }
      ]
    },
    {
      "cell_type": "code",
      "source": [
        "numeric_cols = df_train.select_dtypes(include=['number'])\n",
        "\n",
        "\n",
        "numeric_cols.hist(figsize=(10, 6), bins=30, edgecolor='black')\n",
        "\n",
        "plt.tight_layout()\n",
        "plt.show()"
      ],
      "metadata": {
        "colab": {
          "base_uri": "https://localhost:8080/",
          "height": 607
        },
        "id": "nQ1pixXaa2lp",
        "outputId": "af5bab66-49d4-4896-fde9-05dd49964f8b"
      },
      "execution_count": 45,
      "outputs": [
        {
          "output_type": "display_data",
          "data": {
            "text/plain": [
              "<IPython.core.display.Javascript object>"
            ],
            "application/javascript": [
              "\n",
              "        if (window._pyforest_update_imports_cell) { window._pyforest_update_imports_cell('import statistics\\nfrom scipy import stats\\nfrom sklearn.linear_model import LinearRegression\\nfrom sklearn.preprocessing import MinMaxScaler\\nimport spacy\\nfrom sklearn.preprocessing import LabelEncoder\\nfrom sklearn.model_selection import GridSearchCV\\nimport xgboost as xgb\\nimport pydot\\nimport pandas as pd\\nfrom scipy import signal as sg\\nimport statsmodels.api as sm\\nimport plotly as py\\nfrom PIL import Image\\nimport seaborn as sns\\nfrom sklearn.linear_model import LassoCV\\nimport matplotlib.pyplot as plt\\nimport skimage\\nfrom sklearn.cluster import KMeans\\nimport pickle\\nfrom sklearn.linear_model import LogisticRegression\\nimport sklearn\\nfrom sklearn.model_selection import KFold\\nimport fastai\\nimport sys\\nfrom sklearn.linear_model import ElasticNetCV\\nfrom sklearn import svm\\nfrom sklearn.ensemble import GradientBoostingClassifier\\nimport plotly.express as px\\nfrom sklearn.linear_model import ElasticNet\\nfrom sklearn.feature_extraction.text import CountVectorizer\\nfrom sklearn.ensemble import GradientBoostingRegressor\\nfrom statsmodels.tsa.arima_model import ARIMA\\nfrom sklearn.linear_model import Lasso'); }\n",
              "    "
            ]
          },
          "metadata": {}
        },
        {
          "output_type": "display_data",
          "data": {
            "text/plain": [
              "<IPython.core.display.Javascript object>"
            ],
            "application/javascript": [
              "\n",
              "        if (window._pyforest_update_imports_cell) { window._pyforest_update_imports_cell('import statistics\\nfrom scipy import stats\\nfrom sklearn.linear_model import LinearRegression\\nfrom sklearn.preprocessing import MinMaxScaler\\nimport spacy\\nfrom sklearn.preprocessing import LabelEncoder\\nfrom sklearn.model_selection import GridSearchCV\\nimport xgboost as xgb\\nimport pydot\\nimport pandas as pd\\nfrom scipy import signal as sg\\nimport statsmodels.api as sm\\nimport plotly as py\\nfrom PIL import Image\\nimport seaborn as sns\\nfrom sklearn.linear_model import LassoCV\\nimport matplotlib.pyplot as plt\\nimport skimage\\nfrom sklearn.cluster import KMeans\\nimport pickle\\nfrom sklearn.linear_model import LogisticRegression\\nimport sklearn\\nfrom sklearn.model_selection import KFold\\nimport fastai\\nimport sys\\nfrom sklearn.linear_model import ElasticNetCV\\nfrom sklearn import svm\\nfrom sklearn.ensemble import GradientBoostingClassifier\\nimport plotly.express as px\\nfrom sklearn.linear_model import ElasticNet\\nfrom sklearn.feature_extraction.text import CountVectorizer\\nfrom sklearn.ensemble import GradientBoostingRegressor\\nfrom statsmodels.tsa.arima_model import ARIMA\\nfrom sklearn.linear_model import Lasso'); }\n",
              "    "
            ]
          },
          "metadata": {}
        },
        {
          "output_type": "display_data",
          "data": {
            "text/plain": [
              "<Figure size 1000x600 with 4 Axes>"
            ],
            "image/png": "[encoded data removed]"
          },
          "metadata": {}
        }
      ]
    }
  ]
}